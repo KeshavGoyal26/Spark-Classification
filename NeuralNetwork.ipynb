{
  "cells": [
    {
      "cell_type": "markdown",
      "metadata": {
        "id": "Gn76sQHGI17x"
      },
      "source": [
        "# Neural Network Image Classification using Spark"
      ]
    },
    {
      "cell_type": "markdown",
      "metadata": {
        "id": "54D8NTqcI172"
      },
      "source": [
        "****"
      ]
    },
    {
      "cell_type": "markdown",
      "metadata": {
        "id": "RCWBkGD6I172"
      },
      "source": [
        "# Imports"
      ]
    },
    {
      "cell_type": "code",
      "source": [
        "!pip install pyspark"
      ],
      "metadata": {
        "colab": {
          "base_uri": "https://localhost:8080/"
        },
        "id": "YTYMwxZKI6vn",
        "outputId": "c8fbcc7f-0e0e-427d-ab26-2ebaf66a203c"
      },
      "execution_count": null,
      "outputs": [
        {
          "output_type": "stream",
          "name": "stdout",
          "text": [
            "Requirement already satisfied: pyspark in /usr/local/lib/python3.7/dist-packages (3.2.1)\n",
            "Requirement already satisfied: py4j==0.10.9.3 in /usr/local/lib/python3.7/dist-packages (from pyspark) (0.10.9.3)\n"
          ]
        }
      ]
    },
    {
      "cell_type": "code",
      "execution_count": null,
      "metadata": {
        "colab": {
          "base_uri": "https://localhost:8080/"
        },
        "id": "sw8irk6aI173",
        "outputId": "e275e582-5e52-41a8-e03b-fa7d482a73a3"
      },
      "outputs": [
        {
          "output_type": "stream",
          "name": "stdout",
          "text": [
            "Pyspark Script: /usr/local/lib/python3.7/dist-packages/ipykernel_launcher.py\n",
            "PySpark version: 3.2.1\n"
          ]
        }
      ],
      "source": [
        "import sys\n",
        "import pyspark\n",
        "import numpy as np\n",
        "import random\n",
        "import matplotlib.pyplot as plt\n",
        "from sklearn.metrics import multilabel_confusion_matrix\n",
        "\n",
        "\n",
        "print(\"Pyspark Script:\", sys.argv[0])\n",
        "print(\"PySpark version:\", pyspark.__version__)"
      ]
    },
    {
      "cell_type": "markdown",
      "metadata": {
        "id": "5PDlh8C7I175"
      },
      "source": [
        "# Download MNIST Dataset from Keras"
      ]
    },
    {
      "cell_type": "code",
      "execution_count": null,
      "metadata": {
        "id": "Gupu_ttII176",
        "colab": {
          "base_uri": "https://localhost:8080/"
        },
        "outputId": "0f6fc621-45c6-4913-80cf-23d94e040cbf"
      },
      "outputs": [
        {
          "output_type": "stream",
          "name": "stdout",
          "text": [
            "Downloading data from https://storage.googleapis.com/tensorflow/tf-keras-datasets/train-labels-idx1-ubyte.gz\n",
            "32768/29515 [=================================] - 0s 0us/step\n",
            "40960/29515 [=========================================] - 0s 0us/step\n",
            "Downloading data from https://storage.googleapis.com/tensorflow/tf-keras-datasets/train-images-idx3-ubyte.gz\n",
            "26427392/26421880 [==============================] - 0s 0us/step\n",
            "26435584/26421880 [==============================] - 0s 0us/step\n",
            "Downloading data from https://storage.googleapis.com/tensorflow/tf-keras-datasets/t10k-labels-idx1-ubyte.gz\n",
            "16384/5148 [===============================================================================================] - 0s 0us/step\n",
            "Downloading data from https://storage.googleapis.com/tensorflow/tf-keras-datasets/t10k-images-idx3-ubyte.gz\n",
            "4423680/4422102 [==============================] - 0s 0us/step\n",
            "4431872/4422102 [==============================] - 0s 0us/step\n"
          ]
        }
      ],
      "source": [
        "from tensorflow import keras \n",
        "from tensorflow.keras.datasets import mnist, fashion_mnist\n",
        "from tensorflow.keras import utils\n",
        "# from tensorflow.keras.utils import to_categorical\n",
        "\n",
        "# load MNIST\n",
        "# (x_train, y_train), (x_test, y_test) = mnist.load_data()\n",
        "(x_train, y_train), (x_test, y_test) = fashion_mnist.load_data() \n",
        "\n",
        "# training data : 60000 samples\n",
        "# reshape and normalize input data\n",
        "x_train = x_train.reshape(x_train.shape[0], 1, 28*28)\n",
        "x_train = x_train.astype('float32')\n",
        "x_train /= 255\n",
        "# encode output which is a number in range [0,9] into a vector of size 10\n",
        "# e.g. number 3 will become [0, 0, 0, 1, 0, 0, 0, 0, 0, 0]\n",
        "y_train = utils.to_categorical(y_train)\n",
        "\n",
        "# same for test data : 10000 samples\n",
        "x_test = x_test.reshape(x_test.shape[0], 1, 28*28)\n",
        "x_test = x_test.astype('float32')\n",
        "x_test /= 255\n",
        "y_test = utils.to_categorical(y_test)\n",
        "\n",
        "\n",
        "np.savetxt('sample_data/mnist_images_train.csv', x_train.reshape(len(x_train),784).tolist())\n",
        "np.savetxt('sample_data/mnist_images_test.csv', x_test.reshape(len(x_test),784).tolist())\n",
        "np.savetxt('sample_data/mnist_labels_train.csv', y_train.tolist())\n",
        "np.savetxt('sample_data/mnist_labels_test.csv', y_test.tolist())"
      ]
    },
    {
      "cell_type": "code",
      "execution_count": null,
      "metadata": {
        "id": "Vp0B1M3_I177"
      },
      "outputs": [],
      "source": [
        "# from pyspark import SparkContext\n",
        "# sc =SparkContext()"
      ]
    },
    {
      "cell_type": "markdown",
      "metadata": {
        "id": "Phq3ZX3kI177"
      },
      "source": [
        "# Load data"
      ]
    },
    {
      "cell_type": "code",
      "execution_count": null,
      "metadata": {
        "id": "gCPHt1BXI178"
      },
      "outputs": [],
      "source": [
        "txt_train_images = sc.textFile(\"sample_data/mnist_images_train.csv\", 1)\n",
        "x_train = txt_train_images.map(lambda x : np.fromstring(x, dtype=float, sep=' ').reshape(1, 784)).zipWithIndex().map(lambda x: (str(x[1]), x[0]))\n",
        "\n",
        "txt_train_labels = sc.textFile(\"sample_data/mnist_labels_train.csv\", 1)\n",
        "y_train = txt_train_labels.map(lambda x : np.fromstring(x, dtype=float, sep=' ').reshape(1, 10)).zipWithIndex().map(lambda x: (str(x[1]), x[0]))\n",
        "\n",
        "txt_test_images = sc.textFile(\"sample_data/mnist_images_test.csv\", 1)\n",
        "x_test = txt_test_images.map(lambda x : np.fromstring(x, dtype=float, sep=' ').reshape(1, 784)).zipWithIndex().map(lambda x: (str(x[1]), x[0]))\n",
        "\n",
        "txt_test_labels = sc.textFile(\"sample_data/mnist_labels_test.csv\", 1)\n",
        "y_test = txt_test_labels.map(lambda x : np.fromstring(x, dtype=float, sep=' ').reshape(1, 10)).zipWithIndex().map(lambda x: (str(x[1]), x[0]))"
      ]
    },
    {
      "cell_type": "code",
      "execution_count": null,
      "metadata": {
        "id": "-oLmGD_tI178",
        "outputId": "01812724-5810-4cdc-d444-a7243a3fd861",
        "colab": {
          "base_uri": "https://localhost:8080/"
        }
      },
      "outputs": [
        {
          "output_type": "stream",
          "name": "stdout",
          "text": [
            "[(array([[0.        , 0.        , 0.        , 0.        , 0.        ,\n",
            "        0.        , 0.        , 0.        , 0.        , 0.        ,\n",
            "        0.        , 0.05882353, 0.31764707, 0.18039216, 0.18431373,\n",
            "        0.27058825, 0.10196079, 0.        , 0.        , 0.        ,\n",
            "        0.00392157, 0.00392157, 0.        , 0.00392157, 0.        ,\n",
            "        0.        , 0.        , 0.        , 0.        , 0.        ,\n",
            "        0.        , 0.00392157, 0.00784314, 0.00392157, 0.        ,\n",
            "        0.        , 0.        , 0.        , 0.01176471, 0.10980392,\n",
            "        0.61176473, 0.65098041, 0.65490198, 0.65490198, 0.2       ,\n",
            "        0.        , 0.        , 0.        , 0.        , 0.00392157,\n",
            "        0.        , 0.00392157, 0.        , 0.        , 0.        ,\n",
            "        0.        , 0.        , 0.        , 0.        , 0.        ,\n",
            "        0.00784314, 0.        , 0.        , 0.03921569, 0.14509805,\n",
            "        0.22745098, 0.29803923, 0.08235294, 0.37254903, 0.96862745,\n",
            "        1.        , 0.6901961 , 0.05098039, 0.23921569, 0.23921569,\n",
            "        0.13333334, 0.05098039, 0.        , 0.        , 0.        ,\n",
            "        0.        , 0.        , 0.        , 0.        , 0.        ,\n",
            "        0.        , 0.        , 0.        , 0.        , 0.04313726,\n",
            "        0.25490198, 0.26666668, 0.26274511, 0.23921569, 0.22352941,\n",
            "        0.12156863, 0.04705882, 0.47058824, 0.66274512, 0.14509805,\n",
            "        0.09411765, 0.21960784, 0.21960784, 0.24705882, 0.27843139,\n",
            "        0.22352941, 0.02352941, 0.        , 0.        , 0.        ,\n",
            "        0.        , 0.        , 0.        , 0.        , 0.        ,\n",
            "        0.        , 0.        , 0.21960784, 0.22745098, 0.2       ,\n",
            "        0.19215687, 0.2       , 0.20392157, 0.1882353 , 0.22352941,\n",
            "        0.1882353 , 0.12941177, 0.21960784, 0.21568628, 0.20392157,\n",
            "        0.2       , 0.19607843, 0.2       , 0.25098041, 0.21568628,\n",
            "        0.        , 0.        , 0.        , 0.        , 0.        ,\n",
            "        0.        , 0.        , 0.        , 0.        , 0.09803922,\n",
            "        0.24313726, 0.1882353 , 0.20392157, 0.19215687, 0.19215687,\n",
            "        0.2       , 0.1882353 , 0.17647059, 0.21568628, 0.20392157,\n",
            "        0.18431373, 0.19215687, 0.19215687, 0.16470589, 0.20784314,\n",
            "        0.19607843, 0.19607843, 0.25882354, 0.09411765, 0.        ,\n",
            "        0.        , 0.        , 0.        , 0.        , 0.        ,\n",
            "        0.        , 0.        , 0.19215687, 0.23921569, 0.24705882,\n",
            "        0.19607843, 0.18039216, 0.19215687, 0.2       , 0.1882353 ,\n",
            "        0.2       , 0.22745098, 0.20784314, 0.20392157, 0.1882353 ,\n",
            "        0.21176471, 0.21176471, 0.16862746, 0.19215687, 0.23529412,\n",
            "        0.25490198, 0.18431373, 0.        , 0.        , 0.        ,\n",
            "        0.        , 0.        , 0.        , 0.        , 0.01176471,\n",
            "        0.24705882, 0.21960784, 0.3019608 , 0.20392157, 0.18431373,\n",
            "        0.19215687, 0.19607843, 0.19215687, 0.20784314, 0.23529412,\n",
            "        0.20784314, 0.21176471, 0.17647059, 0.26274511, 0.65490198,\n",
            "        0.17647059, 0.2       , 0.25882354, 0.25098041, 0.22745098,\n",
            "        0.        , 0.        , 0.        , 0.        , 0.        ,\n",
            "        0.        , 0.        , 0.05882353, 0.23921569, 0.19607843,\n",
            "        0.35294119, 0.22352941, 0.16470589, 0.20392157, 0.19215687,\n",
            "        0.19215687, 0.2       , 0.21960784, 0.21176471, 0.2       ,\n",
            "        0.19607843, 0.16078432, 0.21960784, 0.18431373, 0.1882353 ,\n",
            "        0.35294119, 0.22745098, 0.26666668, 0.03529412, 0.        ,\n",
            "        0.        , 0.        , 0.        , 0.        , 0.        ,\n",
            "        0.13333334, 0.21960784, 0.2       , 0.36470589, 0.26274511,\n",
            "        0.16470589, 0.21568628, 0.19607843, 0.20392157, 0.20392157,\n",
            "        0.20784314, 0.21176471, 0.20392157, 0.20392157, 0.2       ,\n",
            "        0.19607843, 0.17647059, 0.25882354, 0.44705883, 0.2       ,\n",
            "        0.25098041, 0.10196079, 0.        , 0.        , 0.        ,\n",
            "        0.        , 0.        , 0.        , 0.16862746, 0.23921569,\n",
            "        0.23529412, 0.43137255, 0.35686275, 0.14901961, 0.21960784,\n",
            "        0.20392157, 0.20784314, 0.21568628, 0.20392157, 0.2       ,\n",
            "        0.20784314, 0.21568628, 0.22352941, 0.24705882, 0.15294118,\n",
            "        0.35294119, 0.35686275, 0.20784314, 0.25490198, 0.16862746,\n",
            "        0.        , 0.        , 0.        , 0.        , 0.        ,\n",
            "        0.        , 0.        , 0.04705882, 0.09019608, 0.33333334,\n",
            "        0.3882353 , 0.15294118, 0.22745098, 0.2       , 0.20392157,\n",
            "        0.20784314, 0.20784314, 0.20784314, 0.20784314, 0.21176471,\n",
            "        0.21568628, 0.20784314, 0.16470589, 0.56078434, 0.44313726,\n",
            "        0.22745098, 0.15294118, 0.06666667, 0.        , 0.        ,\n",
            "        0.        , 0.        , 0.        , 0.        , 0.        ,\n",
            "        0.        , 0.        , 0.        , 0.13333334, 0.23529412,\n",
            "        0.21960784, 0.20392157, 0.20392157, 0.2       , 0.2       ,\n",
            "        0.2       , 0.20784314, 0.21568628, 0.20784314, 0.20392157,\n",
            "        0.22352941, 0.27450982, 0.10588235, 0.        , 0.        ,\n",
            "        0.        , 0.        , 0.        , 0.        , 0.        ,\n",
            "        0.        , 0.        , 0.        , 0.        , 0.        ,\n",
            "        0.        , 0.09411765, 0.23921569, 0.2       , 0.20392157,\n",
            "        0.20392157, 0.2       , 0.2       , 0.20392157, 0.21176471,\n",
            "        0.22352941, 0.21960784, 0.18431373, 0.25098041, 0.10588235,\n",
            "        0.        , 0.        , 0.        , 0.        , 0.        ,\n",
            "        0.        , 0.        , 0.        , 0.        , 0.        ,\n",
            "        0.        , 0.        , 0.        , 0.        , 0.07450981,\n",
            "        0.23529412, 0.18039216, 0.21176471, 0.20392157, 0.2       ,\n",
            "        0.20392157, 0.20784314, 0.21568628, 0.22352941, 0.22352941,\n",
            "        0.18431373, 0.23529412, 0.13333334, 0.        , 0.00392157,\n",
            "        0.        , 0.        , 0.        , 0.        , 0.        ,\n",
            "        0.        , 0.        , 0.        , 0.        , 0.        ,\n",
            "        0.        , 0.        , 0.08235294, 0.21568628, 0.18039216,\n",
            "        0.20784314, 0.20392157, 0.2       , 0.20392157, 0.20392157,\n",
            "        0.21568628, 0.21960784, 0.21960784, 0.21176471, 0.22745098,\n",
            "        0.10980392, 0.        , 0.        , 0.00392157, 0.        ,\n",
            "        0.        , 0.        , 0.        , 0.        , 0.        ,\n",
            "        0.        , 0.        , 0.        , 0.        , 0.        ,\n",
            "        0.07843138, 0.2       , 0.2       , 0.2       , 0.2       ,\n",
            "        0.20392157, 0.20392157, 0.2       , 0.20784314, 0.22745098,\n",
            "        0.21960784, 0.21176471, 0.23529412, 0.09803922, 0.        ,\n",
            "        0.00784314, 0.        , 0.        , 0.        , 0.        ,\n",
            "        0.        , 0.        , 0.        , 0.        , 0.        ,\n",
            "        0.        , 0.        , 0.        , 0.07450981, 0.20784314,\n",
            "        0.20784314, 0.2       , 0.2       , 0.2       , 0.21176471,\n",
            "        0.20784314, 0.20392157, 0.22352941, 0.22745098, 0.2       ,\n",
            "        0.23921569, 0.09411765, 0.        , 0.00784314, 0.00392157,\n",
            "        0.        , 0.        , 0.        , 0.        , 0.        ,\n",
            "        0.        , 0.        , 0.        , 0.        , 0.        ,\n",
            "        0.        , 0.08235294, 0.21568628, 0.18431373, 0.2       ,\n",
            "        0.2       , 0.2       , 0.21176471, 0.21176471, 0.20392157,\n",
            "        0.21568628, 0.24313726, 0.2       , 0.21568628, 0.10588235,\n",
            "        0.        , 0.00392157, 0.        , 0.        , 0.        ,\n",
            "        0.        , 0.        , 0.        , 0.        , 0.        ,\n",
            "        0.        , 0.        , 0.        , 0.        , 0.09019608,\n",
            "        0.21568628, 0.18039216, 0.20392157, 0.20392157, 0.20392157,\n",
            "        0.20784314, 0.20784314, 0.20784314, 0.20784314, 0.23921569,\n",
            "        0.21176471, 0.21568628, 0.11764706, 0.        , 0.00392157,\n",
            "        0.        , 0.        , 0.        , 0.        , 0.        ,\n",
            "        0.        , 0.        , 0.        , 0.        , 0.        ,\n",
            "        0.        , 0.        , 0.11764706, 0.20392157, 0.18039216,\n",
            "        0.20784314, 0.20392157, 0.20784314, 0.20784314, 0.20784314,\n",
            "        0.21176471, 0.2       , 0.21960784, 0.23921569, 0.21176471,\n",
            "        0.11764706, 0.        , 0.00392157, 0.00392157, 0.        ,\n",
            "        0.        , 0.        , 0.        , 0.        , 0.        ,\n",
            "        0.        , 0.        , 0.        , 0.        , 0.        ,\n",
            "        0.12156863, 0.19607843, 0.1882353 , 0.20784314, 0.20392157,\n",
            "        0.20392157, 0.20784314, 0.20784314, 0.20784314, 0.20392157,\n",
            "        0.20392157, 0.23529412, 0.22745098, 0.12156863, 0.        ,\n",
            "        0.        , 0.        , 0.        , 0.        , 0.        ,\n",
            "        0.        , 0.        , 0.        , 0.        , 0.        ,\n",
            "        0.        , 0.        , 0.        , 0.10980392, 0.19607843,\n",
            "        0.19215687, 0.2       , 0.20392157, 0.20784314, 0.20784314,\n",
            "        0.21176471, 0.20784314, 0.21176471, 0.2       , 0.20784314,\n",
            "        0.24705882, 0.1254902 , 0.        , 0.        , 0.        ,\n",
            "        0.        , 0.        , 0.        , 0.        , 0.        ,\n",
            "        0.        , 0.        , 0.        , 0.        , 0.        ,\n",
            "        0.        , 0.12156863, 0.1882353 , 0.19215687, 0.19215687,\n",
            "        0.20784314, 0.21176471, 0.21176471, 0.21176471, 0.20392157,\n",
            "        0.21568628, 0.20392157, 0.2       , 0.22745098, 0.13333334,\n",
            "        0.        , 0.        , 0.        , 0.        , 0.        ,\n",
            "        0.        , 0.        , 0.        , 0.        , 0.        ,\n",
            "        0.        , 0.        , 0.        , 0.        , 0.1254902 ,\n",
            "        0.19215687, 0.19607843, 0.19607843, 0.21176471, 0.21176471,\n",
            "        0.21176471, 0.21176471, 0.20392157, 0.21176471, 0.20392157,\n",
            "        0.20392157, 0.22745098, 0.12941177, 0.        , 0.        ,\n",
            "        0.        , 0.        , 0.        , 0.        , 0.        ,\n",
            "        0.        , 0.        , 0.        , 0.        , 0.        ,\n",
            "        0.        , 0.        , 0.1254902 , 0.19215687, 0.19607843,\n",
            "        0.2       , 0.21568628, 0.21568628, 0.21176471, 0.21176471,\n",
            "        0.20392157, 0.21176471, 0.2       , 0.2       , 0.22745098,\n",
            "        0.12941177, 0.        , 0.        , 0.        , 0.        ,\n",
            "        0.        , 0.        , 0.        , 0.        , 0.        ,\n",
            "        0.        , 0.        , 0.        , 0.        , 0.        ,\n",
            "        0.13725491, 0.21568628, 0.21176471, 0.20784314, 0.22352941,\n",
            "        0.22352941, 0.21960784, 0.21960784, 0.21568628, 0.21960784,\n",
            "        0.22352941, 0.21568628, 0.24313726, 0.14509805, 0.        ,\n",
            "        0.        , 0.        , 0.        , 0.        , 0.        ,\n",
            "        0.        , 0.        , 0.        , 0.        , 0.        ,\n",
            "        0.        , 0.        , 0.        , 0.10196079, 0.18039216,\n",
            "        0.16470589, 0.16862746, 0.18039216, 0.17647059, 0.17647059,\n",
            "        0.18039216, 0.18039216, 0.18039216, 0.18039216, 0.16470589,\n",
            "        0.19607843, 0.10980392, 0.        , 0.00392157, 0.        ,\n",
            "        0.        , 0.        , 0.        , 0.        ]]), array([[1., 0.]]))]\n",
            "Trainset size: 12000\n",
            "Testset size: 2000\n"
          ]
        }
      ],
      "source": [
        "train_ds_rdd = x_train.join(y_train).map(lambda x: x[1]).map(lambda x: (x[0], np.array([x[1][0][:2]])))\n",
        "test_ds_rdd = x_test.join(y_test).map(lambda x: x[1]).map(lambda x: (x[0], np.array([x[1][0][:2]])))\n",
        "\n",
        "train_rdd = train_ds_rdd.filter(lambda x: np.array_equal(x[1][0], [1., 0.]) or np.array_equal(x[1][0], [0., 1.]))\n",
        "test_rdd = test_ds_rdd.filter(lambda x: np.array_equal(x[1][0], [1., 0.]) or np.array_equal(x[1][0], [0., 1.]))\n",
        "\n",
        "train_rdd.cache()\n",
        "\n",
        "print(train_rdd.take(1))\n",
        "print(\"Trainset size:\", train_rdd.count())\n",
        "print(\"Testset size:\", test_rdd.count())"
      ]
    },
    {
      "cell_type": "markdown",
      "metadata": {
        "id": "JZFTtKyfI179"
      },
      "source": [
        "# Functions"
      ]
    },
    {
      "cell_type": "markdown",
      "metadata": {
        "id": "RBZFfOZZI179"
      },
      "source": [
        "## Activation Function"
      ]
    },
    {
      "cell_type": "code",
      "execution_count": null,
      "metadata": {
        "id": "79VxZumII179"
      },
      "outputs": [],
      "source": [
        "# General function to apply any activation function\n",
        "def activation(x, f):\n",
        "    return f(x)\n",
        "\n",
        "# Sigmoid Activation function\n",
        "def sigmoid(X):\n",
        "    return 1 / (1 + np.exp(-X))\n",
        "\n",
        "# Sigmoid prime function (used for backward prop)\n",
        "def sigmoid_prime(x):\n",
        "    sig = sigmoid(x)\n",
        "    return sig * (1 - sig)"
      ]
    },
    {
      "cell_type": "markdown",
      "metadata": {
        "id": "bOmHNuMcI17-"
      },
      "source": [
        "## Forward Propagation"
      ]
    },
    {
      "cell_type": "code",
      "execution_count": null,
      "metadata": {
        "id": "3s8Ju-o0I17-"
      },
      "outputs": [],
      "source": [
        "# Compute the layer propagation before activation\n",
        "def preforward(x, w, b):\n",
        "    return np.dot(x, w) + b\n",
        "\n",
        "# Compute the layer propagation after activation\n",
        "# This is also equivalent to a predict function once model is trained\n",
        "def predict(x, W1, B1, W2, B2):\n",
        "    return sigmoid(preforward(sigmoid(preforward(x , W1, B1)), W2, B2))"
      ]
    },
    {
      "cell_type": "markdown",
      "metadata": {
        "id": "tslaOkWhI17-"
      },
      "source": [
        "## Backward Propagation"
      ]
    },
    {
      "cell_type": "code",
      "execution_count": null,
      "metadata": {
        "id": "EEbSvdLqI17-"
      },
      "outputs": [],
      "source": [
        "# Compute the derivative of the error regarding B2\n",
        "def derivativeB2(y_pred, y_true, y_h, f_prime):\n",
        "    return (y_pred - y_true) * f_prime(y_h)\n",
        "\n",
        "# Compute the derivative of the error regarding W2\n",
        "def derivativeW2(h, dB2):\n",
        "    return np.dot(h.T, dB2)\n",
        "\n",
        "# Compute the derivative of the error regarding B1\n",
        "def derivativeB1(h_h, dB2, W2, f_prime):\n",
        "    return np.dot(dB2, W2.T) * f_prime(h_h)\n",
        "\n",
        "# Compute the derivative of the error regarding W1\n",
        "def derivativeW1(x, dB1):\n",
        "    return np.dot(x.T, dB1)"
      ]
    },
    {
      "cell_type": "markdown",
      "metadata": {
        "id": "0fcf0dLUI17_"
      },
      "source": [
        "## Evaluation"
      ]
    },
    {
      "cell_type": "code",
      "execution_count": null,
      "metadata": {
        "id": "wvGtKXorI17_"
      },
      "outputs": [],
      "source": [
        "def get_metrics(pred, true):\n",
        "    cm = multilabel_confusion_matrix(true, pred)\n",
        "    return (cm)\n",
        "\n",
        "# Cost function\n",
        "def sse(y_pred, y_true):\n",
        "    return 0.5 * np.sum(np.power(y_pred - y_true, 2))"
      ]
    },
    {
      "cell_type": "markdown",
      "metadata": {
        "id": "vmUp9E1eI17_"
      },
      "source": [
        "# Training (Mini Batch Implementation)"
      ]
    },
    {
      "cell_type": "code",
      "execution_count": null,
      "metadata": {
        "id": "B7INpMHyI17_",
        "outputId": "ecbca576-a95e-4c57-d634-f60ad9e69b92",
        "colab": {
          "base_uri": "https://localhost:8080/",
          "height": 1000
        }
      },
      "outputs": [
        {
          "output_type": "stream",
          "name": "stdout",
          "text": [
            "Start Training Loop:\n",
            "   Epoch 1/50 | Cost: 0.29630393772009517 | Acc: 49.634160969173564 | Batchsize:8337\n",
            "   Epoch 2/50 | Cost: 0.2891720066927312 | Acc: 49.610297590930564 | Batchsize:8468\n",
            "   Epoch 3/50 | Cost: 0.2817160042811161 | Acc: 49.95224450811843 | Batchsize:8376\n",
            "   Epoch 4/50 | Cost: 0.27278753586410626 | Acc: 50.37415369996437 | Batchsize:8419\n",
            "   Epoch 5/50 | Cost: 0.2659101435941652 | Acc: 50.427350427350426 | Batchsize:8307\n",
            "   Epoch 6/50 | Cost: 0.2605332743959572 | Acc: 50.15580057526366 | Batchsize:8344\n",
            "   Epoch 7/50 | Cost: 0.2533595671829682 | Acc: 50.38369304556355 | Batchsize:8340\n",
            "   Epoch 8/50 | Cost: 0.2437077933222879 | Acc: 51.614423756775864 | Batchsize:8486\n",
            "   Epoch 9/50 | Cost: 0.23647943321115078 | Acc: 53.30790320658004 | Batchsize:8389\n",
            "   Epoch 10/50 | Cost: 0.22717519284171855 | Acc: 56.520181514210655 | Batchsize:8374\n",
            "   Epoch 11/50 | Cost: 0.22005938036396608 | Acc: 60.391548286976246 | Batchsize:8377\n",
            "   Epoch 12/50 | Cost: 0.21380202871951556 | Acc: 65.24013314312886 | Batchsize:8412\n",
            "   Epoch 13/50 | Cost: 0.20630875005714594 | Acc: 71.42178969855209 | Batchsize:8426\n",
            "   Epoch 14/50 | Cost: 0.1995362182270823 | Acc: 77.30750836920134 | Batchsize:8364\n",
            "   Epoch 15/50 | Cost: 0.19370258437018997 | Acc: 82.48157832184454 | Batchsize:8414\n",
            "   Epoch 16/50 | Cost: 0.18922825683945346 | Acc: 85.47426120114395 | Batchsize:8392\n",
            "   Epoch 17/50 | Cost: 0.18328643351502424 | Acc: 87.68115942028986 | Batchsize:8418\n",
            "   Epoch 18/50 | Cost: 0.17978304290900068 | Acc: 88.91654812707445 | Batchsize:8436\n",
            "   Epoch 19/50 | Cost: 0.17544691192900524 | Acc: 89.94545885700735 | Batchsize:8434\n",
            "   Epoch 20/50 | Cost: 0.17068570814059258 | Acc: 91.03101424979045 | Batchsize:8351\n",
            "   Epoch 21/50 | Cost: 0.1678036720776314 | Acc: 91.05169340463458 | Batchsize:8415\n",
            "   Epoch 22/50 | Cost: 0.16423933175719857 | Acc: 91.37747246239488 | Batchsize:8443\n",
            "   Epoch 23/50 | Cost: 0.1612574397915528 | Acc: 91.63883587786259 | Batchsize:8384\n",
            "   Epoch 24/50 | Cost: 0.15839267991723796 | Acc: 91.79603534750417 | Batchsize:8374\n",
            "   Epoch 25/50 | Cost: 0.15520558535782247 | Acc: 91.85087824112797 | Batchsize:8369\n",
            "   Epoch 26/50 | Cost: 0.15282027625348032 | Acc: 91.97848176927674 | Batchsize:8365\n",
            "   Epoch 27/50 | Cost: 0.15019452009484618 | Acc: 92.10338256312531 | Batchsize:8396\n",
            "   Epoch 28/50 | Cost: 0.14637351334263227 | Acc: 92.61424650996301 | Batchsize:8381\n",
            "   Epoch 29/50 | Cost: 0.14456594750564994 | Acc: 92.3049645390071 | Batchsize:8460\n",
            "   Epoch 30/50 | Cost: 0.14386746201625955 | Acc: 92.24096958174906 | Batchsize:8416\n",
            "   Epoch 31/50 | Cost: 0.14051588580423183 | Acc: 92.54943502824858 | Batchsize:8496\n",
            "   Epoch 32/50 | Cost: 0.13841649283806384 | Acc: 92.51101321585902 | Batchsize:8399\n",
            "   Epoch 33/50 | Cost: 0.1360545235410644 | Acc: 92.66022198353025 | Batchsize:8379\n",
            "   Epoch 34/50 | Cost: 0.1344642918434072 | Acc: 92.63663663663664 | Batchsize:8325\n",
            "   Epoch 35/50 | Cost: 0.13240018023381653 | Acc: 92.63547386010981 | Batchsize:8378\n",
            "   Epoch 36/50 | Cost: 0.13084660095406234 | Acc: 92.61848341232228 | Batchsize:8440\n",
            "   Epoch 37/50 | Cost: 0.12847273747619406 | Acc: 92.79771808889944 | Batchsize:8414\n",
            "   Epoch 38/50 | Cost: 0.12639386511662637 | Acc: 93.1378368752226 | Batchsize:8423\n",
            "   Epoch 39/50 | Cost: 0.12480446265107002 | Acc: 93.0484466134984 | Batchsize:8401\n",
            "   Epoch 40/50 | Cost: 0.12372267545948444 | Acc: 92.98370793197765 | Batchsize:8409\n",
            "   Epoch 41/50 | Cost: 0.12215380220561468 | Acc: 92.90822407628129 | Batchsize:8390\n",
            "   Epoch 42/50 | Cost: 0.11964898955889756 | Acc: 93.38455997118503 | Batchsize:8329\n",
            "   Epoch 43/50 | Cost: 0.11805227137053413 | Acc: 93.2320937462633 | Batchsize:8363\n",
            "   Epoch 44/50 | Cost: 0.11713226781253835 | Acc: 93.07343824511206 | Batchsize:8388\n",
            "   Epoch 45/50 | Cost: 0.11594343883779955 | Acc: 93.20710059171597 | Batchsize:8450\n",
            "   Epoch 46/50 | Cost: 0.11421055588114964 | Acc: 93.34430856067732 | Batchsize:8504\n",
            "   Epoch 47/50 | Cost: 0.11225751463807826 | Acc: 93.55450236966824 | Batchsize:8440\n",
            "   Epoch 48/50 | Cost: 0.11168472131813842 | Acc: 93.47227212839861 | Batchsize:8349\n",
            "   Epoch 49/50 | Cost: 0.11027996531420668 | Acc: 93.81332697580164 | Batchsize:8389\n",
            "   Epoch 50/50 | Cost: 0.10883450064798404 | Acc: 93.72139420255839 | Batchsize:8521\n",
            "Training end..\n"
          ]
        },
        {
          "output_type": "display_data",
          "data": {
            "text/plain": [
              "<Figure size 432x288 with 1 Axes>"
            ],
            "image/png": "[encoded data removed]"
          },
          "metadata": {
            "needs_background": "light"
          }
        },
        {
          "output_type": "display_data",
          "data": {
            "text/plain": [
              "<Figure size 432x288 with 1 Axes>"
            ],
            "image/png": "[encoded data removed]"
          },
          "metadata": {
            "needs_background": "light"
          }
        }
      ],
      "source": [
        "# Hyperparameters\n",
        "num_iteration = 50\n",
        "learningRate = 0.1\n",
        "\n",
        "input_layer = 784 # number of neurones in the input layer (equal to image size)\n",
        "hidden_layer = 64 # number of neurones in the hidden layer (Custom)\n",
        "output_layer = 2 # number of neurones in the output layer (equal to the number of possible labels)\n",
        "\n",
        "\n",
        "# Paramater Initialization\n",
        "W1 = np.random.rand(input_layer, hidden_layer) - 0.5 # Shape (784, 64)\n",
        "W2 = np.random.rand(hidden_layer, output_layer) - 0.5 # Shape (64, 2)\n",
        "B1 = np.random.rand(1, hidden_layer) - 0.5 # Shape (1, 64)\n",
        "B2 = np.random.rand(1, output_layer) - 0.5 # Shape (1, 2)\n",
        "\n",
        "# History over epochs\n",
        "cost_history = []\n",
        "acc_history = []\n",
        "\n",
        "# Epoch Loop (mini batch implementation)\n",
        "print(\"Start Training Loop:\")\n",
        "\n",
        "for i in range(num_iteration):\n",
        "    \n",
        "    # Compute gradients, cost and accuracy over mini batch \n",
        "\n",
        "    gradientCostAcc = train_rdd\\\n",
        "                        .sample(False,0.7)\\\n",
        "                        .map(lambda x: (x[0], preforward(x[0], W1, B1), x[1]))\\\n",
        "                        .map(lambda x: (x[0], x[1], activation(x[1], sigmoid), x[2]))\\\n",
        "                        .map(lambda x: (x[0], x[1], x[2], preforward(x[2], W2, B2), x[3]))\\\n",
        "                        .map(lambda x: (x[0], x[1], x[2], x[3], activation(x[3], sigmoid), x[4]))\\\n",
        "                        .map(lambda x: (x[0], x[1], x[2], sse(x[4], x[5]), derivativeB2(x[4], x[5], x[3], sigmoid_prime), int(np.argmax(x[4]) == np.argmax(x[5]))))\\\n",
        "                        .map(lambda x: (x[0], x[1], x[3], x[4],  derivativeW2(x[2], x[4]) ,x[5]))\\\n",
        "                        .map(lambda x: (x[0], x[2], x[3], x[4],  derivativeB1(x[1],  x[3], W2, sigmoid_prime) ,x[5]))\\\n",
        "                        .map(lambda x: (x[1], x[2], x[3], x[4], derivativeW1(x[0], x[4]) ,x[5], 1)) \\\n",
        "                        .reduce(lambda x, y: (x[0] + y[0], x[1] + y[1], x[2] + y[2], x[3] + y[3], x[4] + y[4], x[5] + y[5], x[6] + y[6]))\n",
        "\n",
        "    # Cost and Accuarcy of the mini batch\n",
        "    n = gradientCostAcc[-1] # number of images in the mini batch\n",
        "    cost = gradientCostAcc[0]/n # Cost over the mini batch\n",
        "    acc = gradientCostAcc[5]/n # Accuarcy over the mini batch\n",
        "    \n",
        "     # Add to history\n",
        "    cost_history.append(cost)\n",
        "    acc_history.append(acc)\n",
        "    \n",
        "\n",
        "    # Extract gradiends\n",
        "    DB2 = gradientCostAcc[1]/n\n",
        "    DW2 = gradientCostAcc[2]/n\n",
        "    DB1 = gradientCostAcc[3]/n\n",
        "    DW1 = gradientCostAcc[4]/n\n",
        "            \n",
        "    # Update parameter with new learning rate and gradients using Gradient Descent\n",
        "    B2 -= learningRate * DB2\n",
        "    W2 -= learningRate * DW2\n",
        "    B1 -= learningRate * DB1\n",
        "    W1 -= learningRate * DW1\n",
        "\n",
        "    # Display performances\n",
        "    print(f\"   Epoch {i+1}/{num_iteration} | Cost: {cost_history[i]} | Acc: {acc_history[i]*100} | Batchsize:{n}\")\n",
        "\n",
        "print(\"Training end..\")\n",
        "\n",
        "# Plot of cost over epochs\n",
        "plt.subplot(2, 1, 1)\n",
        "plt.plot(cost_history)\n",
        "plt.show()\n",
        "\n",
        "# Plot of accuracy over epochs\n",
        "plt.subplot(2, 1, 2)\n",
        "plt.plot(acc_history)\n",
        "plt.show()"
      ]
    },
    {
      "cell_type": "markdown",
      "metadata": {
        "id": "q8xPy8uiI18A"
      },
      "source": [
        "# Test Evaluation"
      ]
    },
    {
      "cell_type": "code",
      "execution_count": null,
      "metadata": {
        "id": "UGwXTCocI18A",
        "outputId": "33565e38-a554-41e2-fa25-e988f6ac259b",
        "colab": {
          "base_uri": "https://localhost:8080/"
        }
      },
      "outputs": [
        {
          "output_type": "stream",
          "name": "stdout",
          "text": [
            "\n",
            "---- Digit 0 ------\n",
            "\n",
            "TP: 924 FP: 97 FN: 76 TN: 903\n",
            "\n",
            "Precision : 0.9049951019539715\n",
            "Recall: 0.9239999990760001\n",
            "F1 score: 0.9143983116184361\n",
            "\n",
            "---- Digit 1 ------\n",
            "\n",
            "TP: 924 FP: 63 FN: 76 TN: 937\n",
            "\n",
            "Precision : 0.9361702118174567\n",
            "Recall: 0.9239999990760001\n",
            "F1 score: 0.93004479349923\n"
          ]
        }
      ],
      "source": [
        "# Use the trained model over the Testset and get Confusion matrix per class\n",
        "metrics = test_rdd.map(lambda x: get_metrics(np.round(predict(x[0], W1, B1, W2, B2)), x[1]))\\\n",
        "                  .reduce(lambda x, y: x + y)\n",
        "\n",
        "# For each class give TP, FP, FN, TN and precision, and recall, and F1 score\n",
        "for label, label_metrics in enumerate(metrics):\n",
        "    \n",
        "    print(f\"\\n---- Digit {label} ------\\n\")\n",
        "    tn, fp, fn, tp = label_metrics.ravel()\n",
        "    print(\"TP:\", tp, \"FP:\", fp, \"FN:\", fn, \"TN:\", tn)\n",
        "\n",
        "    precision = tp / (tp + fp + 0.000001)\n",
        "    print(f\"\\nPrecision : {precision}\")\n",
        "\n",
        "    recall = tp / (tp + fn + 0.000001)\n",
        "    print(f\"Recall: {recall}\")\n",
        "\n",
        "    F1 = 2 * (precision * recall) / (precision + recall + 0.000001)\n",
        "    print(f\"F1 score: {F1}\")"
      ]
    },
    {
      "cell_type": "code",
      "source": [
        "# 0 T-shirt/top\n",
        "# 1 Trouser\n",
        "# 2 Pullover\n",
        "# 3 Dress\n",
        "# 4 Coat\n",
        "# 5 Sandal\n",
        "# 6 Shirt\n",
        "# 7 Sneaker\n",
        "# 8 Bag\n",
        "# 9 Ankle boot"
      ],
      "metadata": {
        "id": "MFdcBN9UZsOk"
      },
      "execution_count": null,
      "outputs": []
    },
    {
      "cell_type": "code",
      "execution_count": null,
      "metadata": {
        "scrolled": false,
        "id": "uWTfQYbiI18B",
        "outputId": "108f5fa9-c116-43ba-d0d4-2b0fcac0db51",
        "colab": {
          "base_uri": "https://localhost:8080/",
          "height": 1000
        }
      },
      "outputs": [
        {
          "output_type": "stream",
          "name": "stdout",
          "text": [
            "pred: 1, prob: 0.79 true: 1\n"
          ]
        },
        {
          "output_type": "display_data",
          "data": {
            "text/plain": [
              "<Figure size 432x288 with 1 Axes>"
            ],
            "image/png": "[encoded data removed]"
          },
          "metadata": {
            "needs_background": "light"
          }
        },
        {
          "output_type": "stream",
          "name": "stdout",
          "text": [
            "pred: 1, prob: 0.66 true: 1\n"
          ]
        },
        {
          "output_type": "display_data",
          "data": {
            "text/plain": [
              "<Figure size 432x288 with 1 Axes>"
            ],
            "image/png": "[encoded data removed]"
          },
          "metadata": {
            "needs_background": "light"
          }
        },
        {
          "output_type": "stream",
          "name": "stdout",
          "text": [
            "pred: 0, prob: 0.57 true: 0\n"
          ]
        },
        {
          "output_type": "display_data",
          "data": {
            "text/plain": [
              "<Figure size 432x288 with 1 Axes>"
            ],
            "image/png": "[encoded data removed]"
          },
          "metadata": {
            "needs_background": "light"
          }
        },
        {
          "output_type": "stream",
          "name": "stdout",
          "text": [
            "pred: 1, prob: 0.81 true: 1\n"
          ]
        },
        {
          "output_type": "display_data",
          "data": {
            "text/plain": [
              "<Figure size 432x288 with 1 Axes>"
            ],
            "image/png": "[encoded data removed]"
          },
          "metadata": {
            "needs_background": "light"
          }
        },
        {
          "output_type": "stream",
          "name": "stdout",
          "text": [
            "pred: 0, prob: 0.57 true: 0\n"
          ]
        },
        {
          "output_type": "display_data",
          "data": {
            "text/plain": [
              "<Figure size 432x288 with 1 Axes>"
            ],
            "image/png": "[encoded data removed]"
          },
          "metadata": {
            "needs_background": "light"
          }
        },
        {
          "output_type": "stream",
          "name": "stdout",
          "text": [
            "pred: 0, prob: 0.68 true: 0\n"
          ]
        },
        {
          "output_type": "display_data",
          "data": {
            "text/plain": [
              "<Figure size 432x288 with 1 Axes>"
            ],
            "image/png": "[encoded data removed]"
          },
          "metadata": {
            "needs_background": "light"
          }
        },
        {
          "output_type": "stream",
          "name": "stdout",
          "text": [
            "pred: 0, prob: 0.69 true: 0\n"
          ]
        },
        {
          "output_type": "display_data",
          "data": {
            "text/plain": [
              "<Figure size 432x288 with 1 Axes>"
            ],
            "image/png": "[encoded data removed]"
          },
          "metadata": {
            "needs_background": "light"
          }
        },
        {
          "output_type": "stream",
          "name": "stdout",
          "text": [
            "pred: 0, prob: 0.75 true: 0\n"
          ]
        },
        {
          "output_type": "display_data",
          "data": {
            "text/plain": [
              "<Figure size 432x288 with 1 Axes>"
            ],
            "image/png": "[encoded data removed]"
          },
          "metadata": {
            "needs_background": "light"
          }
        },
        {
          "output_type": "stream",
          "name": "stdout",
          "text": [
            "pred: 1, prob: 0.51 true: 1\n"
          ]
        },
        {
          "output_type": "display_data",
          "data": {
            "text/plain": [
              "<Figure size 432x288 with 1 Axes>"
            ],
            "image/png": "[encoded data removed]"
          },
          "metadata": {
            "needs_background": "light"
          }
        },
        {
          "output_type": "stream",
          "name": "stdout",
          "text": [
            "pred: 0, prob: 0.83 true: 0\n"
          ]
        },
        {
          "output_type": "display_data",
          "data": {
            "text/plain": [
              "<Figure size 432x288 with 1 Axes>"
            ],
            "image/png": "[encoded data removed]"
          },
          "metadata": {
            "needs_background": "light"
          }
        }
      ],
      "source": [
        "# Display some Images for checking\n",
        "for image_test in test_rdd.map(lambda x: (x[0], predict(x[0], W1, B1, W2, B2), np.argmax(x[1]))).takeSample(False, 10):\n",
        "    \n",
        "    pred = np.argmax(image_test[1])\n",
        "    print(f'pred: {pred}, prob: {round(image_test[1][0][pred], 2)} true: {image_test[2]}')\n",
        "    image = np.reshape(image_test[0], (28, 28))\n",
        "    plt.imshow(image, cmap='binary')\n",
        "    plt.show()"
      ]
    },
    {
      "cell_type": "markdown",
      "metadata": {
        "id": "4CciXb3cI18B"
      },
      "source": [
        "# Thank you !"
      ]
    },
    {
      "cell_type": "code",
      "source": [
        ""
      ],
      "metadata": {
        "id": "lewvAYTwUoOR"
      },
      "execution_count": null,
      "outputs": []
    }
  ],
  "metadata": {
    "kernelspec": {
      "display_name": "Python 3",
      "language": "python",
      "name": "python3"
    },
    "language_info": {
      "codemirror_mode": {
        "name": "ipython",
        "version": 3
      },
      "file_extension": ".py",
      "mimetype": "text/x-python",
      "name": "python",
      "nbconvert_exporter": "python",
      "pygments_lexer": "ipython3",
      "version": "3.8.5"
    },
    "colab": {
      "name": "NeuralNetwork.ipynb",
      "provenance": [],
      "collapsed_sections": []
    }
  },
  "nbformat": 4,
  "nbformat_minor": 0
}